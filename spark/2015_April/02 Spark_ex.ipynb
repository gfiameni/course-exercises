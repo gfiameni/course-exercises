{
 "cells": [
  {
   "cell_type": "markdown",
   "metadata": {},
   "source": [
    "# (Py)Spark Exercizes\n",
    "@stravanni\n",
    "\n"
   ]
  },
  {
   "cell_type": "markdown",
   "metadata": {},
   "source": [
    "----\n",
    "#Exercises\n",
    "###Try to solve the following exercizes employing the API presentet above"
   ]
  },
  {
   "cell_type": "markdown",
   "metadata": {},
   "source": [
    "##A. Wordcount\n",
    "1. Read the file \"example.txt\", containing \"THE DIVINE COMEDY\"\n",
    "2. Select the 10 most frequent words, exluding che stopwords"
   ]
  },
  {
   "cell_type": "code",
   "execution_count": null,
   "metadata": {
    "collapsed": false
   },
   "outputs": [],
   "source": [
    "import nltk\n",
    "nltk.download(\"stopwords\")\n",
    "FILE_PATH = \"file:///notebooks/cineca/data/\""
   ]
  },
  {
   "cell_type": "code",
   "execution_count": null,
   "metadata": {
    "collapsed": false
   },
   "outputs": [],
   "source": [
    "try:\n",
    "    import nltk.corpus as corpus\n",
    "    stopwords = set(corpus.stopwords.words())\n",
    "    stopwords = stopwords.union([\"dante\",\"etc._:\",\"dante's\",\"_the\",\"(_inf._\"])\n",
    "except ImportError: \n",
    "    stopwords = []"
   ]
  },
  {
   "cell_type": "code",
   "execution_count": null,
   "metadata": {
    "collapsed": false
   },
   "outputs": [],
   "source": [
    "# Write your solution here\n",
    "# Most common words in \"THE DIVINE COMEDY\"\n",
    "rdd = sc.textFile(FILE_PATH + \"DivineComedy.txt\")\n",
    "res = '''...'''\n",
    "res"
   ]
  },
  {
   "cell_type": "markdown",
   "metadata": {},
   "source": [
    "##B. Estimating Pi\n",
    "This code estimates π by \"throwing darts\" at a circle.\n",
    "\n",
    "1. We pick random points in the unit square ((0, 0) to (1,1)) and see how many fall in the unit circle.\n",
    "2. The fraction should be π / 4, so we use this to get our estimate."
   ]
  },
  {
   "cell_type": "code",
   "execution_count": null,
   "metadata": {
    "collapsed": false,
    "slideshow": {
     "slide_type": "slide"
    }
   },
   "outputs": [],
   "source": [
    "# SOLUTION\n",
    "from random import random\n",
    "NUM_SAMPLES = 100\n",
    "\n",
    "def sample(p):\n",
    "    '''...'''\n",
    "\n",
    "sample_nums = sc.parallelize(xrange(0, NUM_SAMPLES))\n",
    "\n",
    "sample = '''...'''\n",
    "\n",
    "count = '''...'''\n",
    "\n",
    "print \"Pi is roughly %f\" % (4.0 * count / NUM_SAMPLES)"
   ]
  },
  {
   "cell_type": "markdown",
   "metadata": {},
   "source": [
    "##C. TMax"
   ]
  },
  {
   "cell_type": "code",
   "execution_count": null,
   "metadata": {
    "collapsed": true
   },
   "outputs": [],
   "source": [
    "import re\n",
    "import sys"
   ]
  },
  {
   "cell_type": "code",
   "execution_count": null,
   "metadata": {
    "collapsed": true
   },
   "outputs": [],
   "source": [
    "#function to extract the data from the line\n",
    "#based on position and filter out the invalid records\n",
    "def extractData(line):\n",
    "    val = line.strip()\n",
    "    (year, temp, q) = (str(val[15:19]), str(val[87:92]), str(val[92:93]))\n",
    "    if (temp != \"+9999\" and re.match(\"[01459]\", q)):\n",
    "        return [(year, temp)]\n",
    "    else:\n",
    "        return []"
   ]
  },
  {
   "cell_type": "code",
   "execution_count": null,
   "metadata": {
    "collapsed": false
   },
   "outputs": [],
   "source": [
    "#Create an RDD from the input data in HDFS\n",
    "weatherData = sc.textFile(FILE_PATH + \"1902.txt\")\n",
    "\n",
    "#Transform the data to extract/filter and then find the max temperature\n",
    "temperature_per_year = weatherData.flatMap(extractData)"
   ]
  },
  {
   "cell_type": "code",
   "execution_count": null,
   "metadata": {
    "collapsed": false
   },
   "outputs": [],
   "source": [
    "max_temperature_per_year = '''...'''"
   ]
  },
  {
   "cell_type": "code",
   "execution_count": null,
   "metadata": {
    "collapsed": false
   },
   "outputs": [],
   "source": [
    "years = '''...'''\n",
    "years.distinct().collect()"
   ]
  },
  {
   "cell_type": "code",
   "execution_count": null,
   "metadata": {
    "collapsed": false
   },
   "outputs": [],
   "source": [
    "#Save the RDD back into HDFS\n",
    "max_temperature_per_year.saveAsTextFile(\"hdfs:///output\")"
   ]
  },
  {
   "cell_type": "markdown",
   "metadata": {},
   "source": [
    "####Currently, pyspark doesn't support overwrite or append.\n",
    "\n",
    "- The function `saveAsTextFile` is\n",
    "a wrapper around `saveAsHadoopFile` and it's not possible overwrite existing files.\n",
    "\n",
    "#### in scala\n",
    "It is however trivial to do this using HDFS directly from Scala:\n",
    "```\n",
    "val hadoopConf = new org.apache.hadoop.conf.Configuration()\n",
    "\n",
    "val hdfs = org.apache.hadoop.fs.FileSystem.get(new java.net.URI(\"hdfs://localhost:9000\"), hadoopConf)\n",
    "```\n",
    "#### in shell\n",
    "- If you need to merge hdfs file, remember to use:\n",
    "[hadoop getMerge](https://hadoop.apache.org/docs/r2.4.1/hadoop-project-dist/hadoop-common/FileSystemShell.html#getmerge)\n",
    "- If you simply want to delete it:\n",
    "```\n",
    "hdfs dfs -rm -R \"hdfs:///output\"\n",
    "```"
   ]
  },
  {
   "cell_type": "code",
   "execution_count": null,
   "metadata": {
    "collapsed": true
   },
   "outputs": [],
   "source": [
    "weatherData_ = sc.textFile(\"hdfs:///output\")"
   ]
  },
  {
   "cell_type": "code",
   "execution_count": null,
   "metadata": {
    "collapsed": false
   },
   "outputs": [],
   "source": [
    "weatherData_.collect()"
   ]
  },
  {
   "cell_type": "code",
   "execution_count": null,
   "metadata": {
    "collapsed": false
   },
   "outputs": [],
   "source": [
    "%%bash\n",
    "hdfs dfs -ls /\n",
    "#hdfs dfs -ls /output"
   ]
  },
  {
   "cell_type": "code",
   "execution_count": null,
   "metadata": {
    "collapsed": false
   },
   "outputs": [],
   "source": [
    "%%bash\n",
    "hdfs dfs -rm -R \"hdfs:///output\"\n",
    "\n",
    "# http://hadoop.apache.org/docs/current/hadoop-project-dist/hadoop-common/FileSystemShell.html#rm"
   ]
  },
  {
   "cell_type": "code",
   "execution_count": null,
   "metadata": {
    "collapsed": true
   },
   "outputs": [],
   "source": []
  }
 ],
 "metadata": {
  "celltoolbar": "Raw Cell Format",
  "kernelspec": {
   "display_name": "Python 2",
   "language": "python",
   "name": "python2"
  },
  "language_info": {
   "codemirror_mode": {
    "name": "ipython",
    "version": 2
   },
   "file_extension": ".py",
   "mimetype": "text/x-python",
   "name": "python",
   "nbconvert_exporter": "python",
   "pygments_lexer": "ipython2",
   "version": "2.7.6"
  }
 },
 "nbformat": 4,
 "nbformat_minor": 0
}
