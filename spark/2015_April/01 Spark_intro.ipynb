{
 "cells": [
  {
   "cell_type": "markdown",
   "metadata": {},
   "source": [
    "# (Py)Spark Exercizes\n",
    "@stravanni\n",
    "\n"
   ]
  },
  {
   "cell_type": "markdown",
   "metadata": {},
   "source": [
    "## Spark vs Pyspark?\n",
    "\n",
    "Spark is written in Scala. The 'native' API is in Scala.\n",
    "\n",
    "Pyspark is a very lightweight wrapper around the native API. (You can see its implementation [here](https://github.com/apache/spark/tree/master/python/pyspark).)\n",
    "\n",
    "---\n",
    "\n",
    "![](http://i.imgur.com/YlI8AqEl.png)\n",
    "\n",
    "[source](https://cwiki.apache.org/confluence/display/SPARK/PySpark+Internals)\n",
    "\n",
    "---"
   ]
  },
  {
   "cell_type": "markdown",
   "metadata": {},
   "source": [
    "### Introduction to the (py)Spark"
   ]
  },
  {
   "cell_type": "markdown",
   "metadata": {},
   "source": [
    "####Warm up by creating an RDD (Resilient Distributed Dataset) named `pagecounts` from the input files. In the Spark shell, the SparkContext is already created for you as variable `sc`."
   ]
  },
  {
   "cell_type": "code",
   "execution_count": null,
   "metadata": {
    "collapsed": true
   },
   "outputs": [],
   "source": [
    "PATH = \"/notebooks/cineca/\""
   ]
  },
  {
   "cell_type": "code",
   "execution_count": null,
   "metadata": {
    "collapsed": false
   },
   "outputs": [],
   "source": [
    "sc"
   ]
  },
  {
   "cell_type": "markdown",
   "metadata": {
    "collapsed": false
   },
   "source": [
    "### PageCounts dataset\n",
    "log wikipedia pages - page count of 2 days\n",
    "\n",
    "https://dumps.wikimedia.org/other/pagecounts-raw/"
   ]
  },
  {
   "cell_type": "code",
   "execution_count": null,
   "metadata": {
    "collapsed": false
   },
   "outputs": [],
   "source": [
    "pagecounts = sc.textFile(\"file://\"+PATH+\"data/pagecounts\")\n",
    "pagecounts"
   ]
  },
  {
   "cell_type": "markdown",
   "metadata": {},
   "source": [
    "####Let's take a peek at the data. You can use the take operation of an RDD to get the first K records. Here, K = 10."
   ]
  },
  {
   "cell_type": "code",
   "execution_count": null,
   "metadata": {
    "collapsed": false
   },
   "outputs": [],
   "source": [
    "pagecounts.take(10)"
   ]
  },
  {
   "cell_type": "markdown",
   "metadata": {},
   "source": [
    "####Let's see how many records in total are in this data set"
   ]
  },
  {
   "cell_type": "code",
   "execution_count": null,
   "metadata": {
    "collapsed": false
   },
   "outputs": [],
   "source": [
    "pagecounts.count()"
   ]
  },
  {
   "cell_type": "markdown",
   "metadata": {},
   "source": [
    "####cache in memory\n",
    "In this data set the second field is the \"project code\" and contains information about the language of the pages.\n",
    "\n",
    "For example, the project code \"en\" indicates an English page.\n",
    "\n",
    "Let's derive an RDD containing only English pages from `pagecounts`.\n",
    "- This can be done by applying a filter function to `pagecounts`.\n",
    "- For each record, we can split it by the field delimiter (i.e. a space) and get the second field-– and then compare it with the string \"en\".\n",
    "\n",
    "To avoid reading from disks each time we perform any operations on the RDD, we also __cache the RDD into memory__.\n",
    "**This is where Spark really starts to to shine**."
   ]
  },
  {
   "cell_type": "code",
   "execution_count": null,
   "metadata": {
    "collapsed": true
   },
   "outputs": [],
   "source": [
    "enPages = pagecounts.filter(lambda x: x.split(\" \")[1] == \"en\").cache()"
   ]
  },
  {
   "cell_type": "markdown",
   "metadata": {},
   "source": [
    "When you type this command into the Spark shell, Spark defines the RDD, but because of lazy evaluation, no computation is done yet.\n",
    "\n",
    "Next time any action is invoked on `enPages`, Spark will cache the data set in memory across the workers in your cluster.\n",
    "\n",
    "####How many records are there for English pages?"
   ]
  },
  {
   "cell_type": "code",
   "execution_count": null,
   "metadata": {
    "collapsed": false
   },
   "outputs": [],
   "source": [
    "enPages.count()"
   ]
  },
  {
   "cell_type": "markdown",
   "metadata": {},
   "source": [
    "The first time this command is run, similar to the last count we did, it will take a while, because Spark scans through the entire data set on disk.\n",
    "\n",
    "**But since enPages was marked as \"cached\" in the previous step, if you run count on the same RDD again, it should return an order of magnitude faster**.\n",
    "\n",
    "####Let's try something fancier.\n",
    "Generate a histogram of total page views on Wikipedia English pages for the date range represented in our dataset (May 5 to May 7, 2009).\n",
    "\n",
    "The high level idea of what we'll be doing is as follows:\n",
    "- First, we generate a key value pair for each line;\n",
    "- the key is the date (the first eight characters of the first field), and the value is the number of pageviews for that date (the fourth field)."
   ]
  },
  {
   "cell_type": "code",
   "execution_count": null,
   "metadata": {
    "collapsed": true
   },
   "outputs": [],
   "source": [
    "enTuples = enPages.map(lambda x: x.split(\" \"))\n",
    "enKeyValuePairs = enTuples.map(lambda x: (x[0][:8], int(x[3])))"
   ]
  },
  {
   "cell_type": "markdown",
   "metadata": {},
   "source": [
    "- Next, we shuffle the data and group all values of the same key together.\n",
    "- Finally we sum up the values for each key.\n",
    "There is a convenient method called `reduceByKey` in Spark for exactly this pattern.\n",
    "\n",
    "**Note** that the second argument to `reduceByKey` determines the number of reducers to use.\n",
    "\n",
    "By default, Spark assumes that the reduce function is commutative and associative and applies combiners on the mapper side. (see foldLeft)\n",
    "\n",
    "Since we know there is a very limited number of keys in this case (because there are only 3 unique dates in our data set), let's use only one reducer."
   ]
  },
  {
   "cell_type": "code",
   "execution_count": null,
   "metadata": {
    "collapsed": false
   },
   "outputs": [],
   "source": [
    "enKeyValuePairs.reduceByKey(lambda x, y: x + y, 1).collect()"
   ]
  },
  {
   "cell_type": "markdown",
   "metadata": {},
   "source": [
    "The `collect` method at the end converts the result from an RDD to an array.\n",
    "\n",
    "We can combine the previous three commands into one:"
   ]
  },
  {
   "cell_type": "code",
   "execution_count": null,
   "metadata": {
    "collapsed": false
   },
   "outputs": [],
   "source": [
    "enPages.map(lambda x: x.split(\" \"))\\\n",
    "        .map(lambda x: (x[0][:8], int(x[3])))\\\n",
    "        .reduceByKey(lambda x, y: x + y, 1)\\\n",
    "        .collect()"
   ]
  },
  {
   "cell_type": "markdown",
   "metadata": {},
   "source": [
    "####Suppose we want to find pages that were viewed more than 200,000 times during the three days covered by our dataset.\n",
    "\n",
    "Conceptually, this task is similar to the previous query.\n",
    "\n",
    "We are doing an expensive group-by with a lot of network shuffling of data.\n",
    "\n",
    "To recap:\n",
    "- first we split each line of data into its respective fields;\n",
    "- next, we extract the fields for page name and number of page views;\n",
    "- we reduce by key again, this time with 2 reducers;\n",
    "- then we filter out pages with less than 200,000 total views over our time window represented by our dataset."
   ]
  },
  {
   "cell_type": "code",
   "execution_count": null,
   "metadata": {
    "collapsed": false
   },
   "outputs": [],
   "source": [
    "enPages.map(lambda x: x.split(\" \"))\\\n",
    "        .map(lambda x: (x[2], int(x[3])))\\\n",
    "        .reduceByKey(lambda x, y: x + y, 2)\\\n",
    "        .filter(lambda x: x[1] > 200000)\\\n",
    "        .map(lambda x: (x[1], x[0]))\\\n",
    "        .collect()"
   ]
  },
  {
   "cell_type": "markdown",
   "metadata": {},
   "source": [
    "####There is no hard and fast way to calculate the optimal number of reducers for a given problem; you will build up intuition over time by experimenting with different values.\n",
    "\n",
    "\n",
    "####You can explore the full RDD API by browsing the [Java/Scala](http://www.cs.berkeley.edu/~pwendell/strataconf/api/core/index.html#spark.RDD) or [Python](http://www.cs.berkeley.edu/~pwendell/strataconf/api/pyspark/index.html) API docs."
   ]
  },
  {
   "cell_type": "markdown",
   "metadata": {
    "collapsed": true
   },
   "source": [
    "---\n",
    "##PySpark API\n",
    "\n",
    "Let's look at some PySpark API.\n",
    "\n",
    "####By clicking on the images you can directly access to the documentation.\n",
    "\n",
    "<a href=\"http://spark.apache.org/docs/1.2.0/api/python/pyspark.html#pyspark.RDD.map\">\n",
    "<img align=left src=\"pyspark-pictures-master/images/pyspark-page3.svg\" width=500 height=500 />\n",
    "</a>"
   ]
  },
  {
   "cell_type": "code",
   "execution_count": null,
   "metadata": {
    "collapsed": false
   },
   "outputs": [],
   "source": [
    "# map\n",
    "x = sc.parallelize([1,2,3]) # sc = spark context, parallelize creates an RDD from the passed object\n",
    "print(x.collect())  # collect copies RDD elements to a list on the driver\n",
    "\n",
    "y = x.map(lambda x: (x,x**2))\n",
    "print(y.collect())"
   ]
  },
  {
   "cell_type": "markdown",
   "metadata": {
    "collapsed": true
   },
   "source": [
    "<a href=\"http://spark.apache.org/docs/1.2.0/api/python/pyspark.html#pyspark.RDD.flatMap\">\n",
    "<img align=left src=\"pyspark-pictures-master/images/pyspark-page4.svg\" width=500 height=500 />\n",
    "</a>"
   ]
  },
  {
   "cell_type": "code",
   "execution_count": null,
   "metadata": {
    "collapsed": false
   },
   "outputs": [],
   "source": [
    "# flatMap\n",
    "x = sc.parallelize([1,2,3])\n",
    "print(x.collect())\n",
    "\n",
    "def f(x):\n",
    "    return [100*x, x**2]\n",
    "print(x.map(f).collect()) # Map\n",
    "\n",
    "y = x.flatMap(\n",
    "    lambda x: (x, 100*x, x**2)) # this lambda yields 2 elements for each element of x\n",
    "print(y.collect())"
   ]
  },
  {
   "cell_type": "markdown",
   "metadata": {
    "collapsed": true
   },
   "source": [
    "<a href=\"http://spark.apache.org/docs/1.2.0/api/python/pyspark.html#pyspark.RDD.filter\">\n",
    "<img align=left src=\"pyspark-pictures-master/images/pyspark-page8.svg\" width=500 height=500 />\n",
    "</a>"
   ]
  },
  {
   "cell_type": "code",
   "execution_count": null,
   "metadata": {
    "collapsed": false
   },
   "outputs": [],
   "source": [
    "# filter\n",
    "x = sc.parallelize([1,2,3,4,5,6,7,8,9])\n",
    "print(x.collect())\n",
    "\n",
    "y = x.filter(lambda x: x%2 == 1)  # filters out even elements\n",
    "print(y.collect())"
   ]
  },
  {
   "cell_type": "markdown",
   "metadata": {
    "collapsed": true
   },
   "source": [
    "<a href=\"http://spark.apache.org/docs/1.2.0/api/python/pyspark.html#pyspark.RDD.reduce\">\n",
    "<img align=left src=\"pyspark-pictures-master/images/pyspark-page23.svg\" width=500 height=500 />\n",
    "</a>"
   ]
  },
  {
   "cell_type": "code",
   "execution_count": null,
   "metadata": {
    "collapsed": false
   },
   "outputs": [],
   "source": [
    "# reduce\n",
    "x = sc.parallelize([1,2,3])\n",
    "print(x.collect())\n",
    "\n",
    "y = x.reduce(lambda obj, accumulated: obj + accumulated)  # computes a cumulative sum\n",
    "print(y)"
   ]
  },
  {
   "cell_type": "markdown",
   "metadata": {
    "collapsed": true
   },
   "source": [
    "<a href=\"http://spark.apache.org/docs/1.2.0/api/python/pyspark.html#pyspark.RDD.reduceByKey\">\n",
    "<img align=left src=\"pyspark-pictures-master/images/pyspark-page44.svg\" width=500 height=500 />\n",
    "</a>"
   ]
  },
  {
   "cell_type": "code",
   "execution_count": null,
   "metadata": {
    "collapsed": false
   },
   "outputs": [],
   "source": [
    "# reduceByKey\n",
    "x = sc.parallelize([('B',1),('B',2),('A',3),('A',4),('A',5)])\n",
    "print(x.collect())\n",
    "\n",
    "y = x.reduceByKey(lambda agg, obj: agg + obj)\n",
    "print(y.collect())"
   ]
  },
  {
   "cell_type": "markdown",
   "metadata": {
    "collapsed": true
   },
   "source": [
    "<a href=\"http://spark.apache.org/docs/1.2.0/api/python/pyspark.html#pyspark.RDD.sortBy\">\n",
    "<img align=left src=\"pyspark-pictures-master/images/pyspark-page15.svg\" width=500 height=500 />\n",
    "</a>"
   ]
  },
  {
   "cell_type": "code",
   "execution_count": null,
   "metadata": {
    "collapsed": false
   },
   "outputs": [],
   "source": [
    "# sortBy\n",
    "x = sc.parallelize(['Cat','Apple','Bat'])\n",
    "print(x.collect())\n",
    "\n",
    "def keyGen(val):\n",
    "    return val[0]\n",
    "\n",
    "y = x.sortBy(keyGen)\n",
    "\n",
    "print(y.collect())"
   ]
  },
  {
   "cell_type": "markdown",
   "metadata": {
    "collapsed": true
   },
   "source": [
    "<a href=\"http://spark.apache.org/docs/1.2.0/api/python/pyspark.html#pyspark.RDD.take\">\n",
    "<img align=left src=\"pyspark-pictures-master/images/pyspark-page39.svg\" width=500 height=500 />\n",
    "</a>"
   ]
  },
  {
   "cell_type": "code",
   "execution_count": null,
   "metadata": {
    "collapsed": false
   },
   "outputs": [],
   "source": [
    "x = sc.parallelize([1,3,1,2,3])\n",
    "print(x.collect())\n",
    "\n",
    "y = x.take(num = 3)\n",
    "print(y)"
   ]
  },
  {
   "cell_type": "markdown",
   "metadata": {
    "collapsed": true
   },
   "source": [
    "<a href=\"http://spark.apache.org/docs/1.2.0/api/python/pyspark.html#pyspark.RDD.top\">\n",
    "<img align=left src=\"pyspark-pictures-master/images/pyspark-page37.svg\" width=500 height=500 />\n",
    "</a>"
   ]
  },
  {
   "cell_type": "code",
   "execution_count": null,
   "metadata": {
    "collapsed": false
   },
   "outputs": [],
   "source": [
    "# top\n",
    "# Get the top N elements from a RDD\n",
    "x = sc.parallelize([1,3,1,2,3,1,1,1])\n",
    "print(x.collect())\n",
    "\n",
    "y = x.top(num = 3)\n",
    "print(y)"
   ]
  },
  {
   "cell_type": "markdown",
   "metadata": {
    "collapsed": true
   },
   "source": [
    "<a href=\"http://spark.apache.org/docs/1.2.0/api/python/pyspark.html#pyspark.RDD.distinct\">\n",
    "<img align=left src=\"pyspark-pictures-master/images/pyspark-page9.svg\" width=500 height=500 />\n",
    "</a>"
   ]
  },
  {
   "cell_type": "code",
   "execution_count": null,
   "metadata": {
    "collapsed": false
   },
   "outputs": [],
   "source": [
    "# distinct\n",
    "x = sc.parallelize(['A','A','B','A','B'])\n",
    "print(x.collect())\n",
    "\n",
    "y = x.distinct()\n",
    "print(y.collect())"
   ]
  },
  {
   "cell_type": "code",
   "execution_count": null,
   "metadata": {
    "collapsed": true
   },
   "outputs": [],
   "source": []
  }
 ],
 "metadata": {
  "celltoolbar": "Raw Cell Format",
  "kernelspec": {
   "display_name": "Python 2",
   "language": "python",
   "name": "python2"
  },
  "language_info": {
   "codemirror_mode": {
    "name": "ipython",
    "version": 2
   },
   "file_extension": ".py",
   "mimetype": "text/x-python",
   "name": "python",
   "nbconvert_exporter": "python",
   "pygments_lexer": "ipython2",
   "version": "2.7.6"
  }
 },
 "nbformat": 4,
 "nbformat_minor": 0
}
